{
 "cells": [
  {
   "cell_type": "code",
   "execution_count": 1,
   "metadata": {},
   "outputs": [
    {
     "name": "stdout",
     "output_type": "stream",
     "text": [
      "Added C:\\Users\\abawa012\\Downloads\\repos\\cluster-links to Python path.\n",
      "Added C:\\Users\\abawa012\\Downloads\\repos\\cluster-links\\src to Python path\n",
      "Current working directory: c:\\Users\\abawa012\\Downloads\\repos\\cluster-links\\notebooks\n"
     ]
    }
   ],
   "source": [
    "import notebooks_setup\n",
    "\n",
    "notebooks_setup.setup()"
   ]
  },
  {
   "cell_type": "code",
   "execution_count": 2,
   "metadata": {},
   "outputs": [],
   "source": [
    "column_mappings = {\n",
    "    \"window\": \"folder\",\n",
    "    \"url\": \"href\",\n",
    "    \"hostname\": \"hostname\",\n",
    "    \"title\": \"title\",\n",
    "}"
   ]
  },
  {
   "cell_type": "code",
   "execution_count": 3,
   "metadata": {},
   "outputs": [],
   "source": [
    "import pandas as pd\n",
    "\n",
    "csv_infile = notebooks_setup.DATA_INPUT_DIR.glob(\"*.csv\").__next__()\n",
    "json_infile = notebooks_setup.DATA_INPUT_DIR.glob(\"*.json\").__next__()\n",
    "\n",
    "df = pd.read_csv(csv_infile).rename(columns=column_mappings).fillna(\"\")"
   ]
  },
  {
   "cell_type": "code",
   "execution_count": 4,
   "metadata": {},
   "outputs": [],
   "source": [
    "df[\"folder\"] = df[\"folder\"].str.extract(r\"([a-zA-Z\\-]+[a-zA-Z])\")"
   ]
  },
  {
   "cell_type": "code",
   "execution_count": 5,
   "metadata": {},
   "outputs": [],
   "source": [
    "def _dedup_href(group: pd.DataFrame) -> pd.DataFrame:\n",
    "    if len(group) == 1:\n",
    "        return group\n",
    "\n",
    "    group_columns = group.columns\n",
    "    max_record = group[group_columns[0]].str.len()\n",
    "    for i in range(1, len(group_columns)):\n",
    "        max_record += group[group_columns[i]].str.len()\n",
    "    max_idx = max_record.idxmax()\n",
    "\n",
    "    return group.loc[[max_idx]]"
   ]
  },
  {
   "cell_type": "code",
   "execution_count": 6,
   "metadata": {},
   "outputs": [],
   "source": [
    "df = (\n",
    "    df.drop_duplicates()\n",
    "    .loc[df[\"href\"].str.strip() != \"chrome://newtab/\"]\n",
    "    .groupby(\"href\")\n",
    "    .apply(_dedup_href, include_groups=False)\n",
    "    .reset_index()  # [list(column_mappings.values())]\n",
    ")"
   ]
  },
  {
   "cell_type": "code",
   "execution_count": 8,
   "metadata": {},
   "outputs": [],
   "source": [
    "bm_folder_list = list(\n",
    "    map(\n",
    "        lambda x: {\n",
    "            \"title\": x,\n",
    "            \"links\": df.loc[df[\"folder\"] == x][\n",
    "                [c for c in column_mappings.values() if c != \"folder\"]\n",
    "            ].to_dict(orient=\"records\"),\n",
    "        },\n",
    "        df[\"folder\"].unique().tolist(),\n",
    "    )\n",
    ")\n",
    "bm_root = {\"title\": \"Unnamed\", \"children\": bm_folder_list}"
   ]
  },
  {
   "cell_type": "code",
   "execution_count": 9,
   "metadata": {},
   "outputs": [
    {
     "name": "stdout",
     "output_type": "stream",
     "text": [
      "Total bookmarks: 2072\n",
      "Total folders: 37\n"
     ]
    }
   ],
   "source": [
    "from data_collection.models import load_bookmarks_from_dict\n",
    "\n",
    "bookmarks = load_bookmarks_from_dict(bm_root)\n",
    "# Get statistics\n",
    "print(f\"Total bookmarks: {bookmarks.total_bookmarks}\")\n",
    "print(f\"Total folders: {bookmarks.total_folders}\")"
   ]
  },
  {
   "cell_type": "code",
   "execution_count": 11,
   "metadata": {},
   "outputs": [
    {
     "data": {
      "text/plain": [
       "[('cs224d.stanford.edu',\n",
       "  'Stanford University CS224d: Deep Learning for Nat…',\n",
       "  'http://cs224d.stanford.edu/'),\n",
       " ('cs231n.stanford.edu',\n",
       "  'Stanford University CS231n: Deep Learning for Com…',\n",
       "  'http://cs231n.stanford.edu/'),\n",
       " ('stanford.edu',\n",
       "  'Teaching - CS 230',\n",
       "  'https://stanford.edu/~shervine/teaching/cs-230/'),\n",
       " ('web.stanford.edu',\n",
       "  'Stanford CS 25 | Transformers United',\n",
       "  'https://web.stanford.edu/class/cs25/'),\n",
       " ('explorecourses.stanford.edu',\n",
       "  'Stanford University Explore Courses',\n",
       "  'https://explorecourses.stanford.edu/search?view=catalog&filter-coursestatus-Active=on&page=0&q=ME218')]"
      ]
     },
     "execution_count": 11,
     "metadata": {},
     "output_type": "execute_result"
    }
   ],
   "source": [
    "# Find bookmarks by domain\n",
    "stanford_bookmarks = []\n",
    "for folder in bookmarks.children:\n",
    "    stanford_bookmarks.extend(folder.find_links_by_domain(\"stanford.edu\"))\n",
    "list(map(lambda x: (x.domain, x.title, x.href), stanford_bookmarks))[:5]"
   ]
  },
  {
   "cell_type": "code",
   "execution_count": null,
   "metadata": {},
   "outputs": [],
   "source": []
  }
 ],
 "metadata": {
  "kernelspec": {
   "display_name": ".venv (3.12.2)",
   "language": "python",
   "name": "python3"
  },
  "language_info": {
   "codemirror_mode": {
    "name": "ipython",
    "version": 3
   },
   "file_extension": ".py",
   "mimetype": "text/x-python",
   "name": "python",
   "nbconvert_exporter": "python",
   "pygments_lexer": "ipython3",
   "version": "3.12.2"
  }
 },
 "nbformat": 4,
 "nbformat_minor": 2
}

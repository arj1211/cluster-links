{
 "cells": [
  {
   "cell_type": "code",
   "execution_count": 1,
   "metadata": {},
   "outputs": [
    {
     "name": "stdout",
     "output_type": "stream",
     "text": [
      "Cleaning *_report.txt files, *.log files, tmp* files and __pycache__ directories...\n",
      "Clean complete.\n"
     ]
    }
   ],
   "source": [
    "%%sh\n",
    "cd .. && make clean"
   ]
  },
  {
   "cell_type": "code",
   "execution_count": 2,
   "metadata": {},
   "outputs": [
    {
     "name": "stdout",
     "output_type": "stream",
     "text": [
      "Added /Users/arjunbawa/Desktop/cluster-links to Python path.\n",
      "Added /Users/arjunbawa/Desktop/cluster-links/src to Python path\n",
      "Current working directory: /Users/arjunbawa/Desktop/cluster-links/notebooks\n"
     ]
    }
   ],
   "source": [
    "import notebooks_setup\n",
    "\n",
    "notebooks_setup.setup()"
   ]
  },
  {
   "cell_type": "code",
   "execution_count": 3,
   "metadata": {},
   "outputs": [
    {
     "name": "stdout",
     "output_type": "stream",
     "text": [
      "data_input_dir=PosixPath('/Users/arjunbawa/Desktop/cluster-links/data/input')\n",
      "data_output_dir=PosixPath('/Users/arjunbawa/Desktop/cluster-links/data/output')\n"
     ]
    }
   ],
   "source": [
    "import json\n",
    "from pathlib import Path\n",
    "\n",
    "data_input_dir = notebooks_setup.ROOT_DIR.joinpath(\"data/input\")\n",
    "data_output_dir = notebooks_setup.ROOT_DIR.joinpath(\"data/output\")\n",
    "print(f\"{data_input_dir=}\")\n",
    "print(f\"{data_output_dir=}\")"
   ]
  },
  {
   "cell_type": "code",
   "execution_count": 4,
   "metadata": {},
   "outputs": [
    {
     "name": "stdout",
     "output_type": "stream",
     "text": [
      "Bookmarks saved to /Users/arjunbawa/Desktop/cluster-links/data/output/bookmarks.json\n"
     ]
    }
   ],
   "source": [
    "from data_collection import ChromeBookmarkCollector\n",
    "\n",
    "cbc = ChromeBookmarkCollector(data_input_dir.glob(\"*.html\").__next__())\n",
    "chrome_bm_json_path = cbc.save_json(\n",
    "    data_output_dir.joinpath(\"bookmarks.json\"), return_path=True\n",
    ")\n",
    "print(f\"Bookmarks saved to {chrome_bm_json_path}\")\n",
    "chrome_bm_json = json.loads(chrome_bm_json_path.read_text(encoding=\"utf-8\"))\n",
    "assert cbc.get_bookmarks() == chrome_bm_json"
   ]
  },
  {
   "cell_type": "code",
   "execution_count": 5,
   "metadata": {},
   "outputs": [],
   "source": [
    "def _get_links(file_path: str) -> list[str]:\n",
    "    \"\"\"\n",
    "    Read a file containing links (one per line or in markdown format) and\n",
    "    return a list of URLs that contain 'http'. Extracts the URL starting\n",
    "    from the first occurrence of 'http' on each line.\n",
    "    \"\"\"\n",
    "    path = Path(file_path).expanduser()\n",
    "    print(f\"Reading links from {path}\")\n",
    "\n",
    "    with path.open(\"r\", encoding=\"utf-8\") as f:\n",
    "        lines = f.readlines()\n",
    "\n",
    "    links = [line[line.find(\"http\") :].strip() for line in lines if \"http\" in line]\n",
    "    return links\n",
    "\n",
    "\n",
    "def get_links_from_file():\n",
    "    from config import load_config\n",
    "\n",
    "    config = load_config()  # Loads config.json\n",
    "    file_path = config.get(\"LINKS_FILE\", \"links.txt\")\n",
    "    links = _get_links(file_path)\n",
    "    print(\"Extracted links:\")\n",
    "    for link in links:\n",
    "        print(link)"
   ]
  },
  {
   "cell_type": "code",
   "execution_count": 6,
   "metadata": {},
   "outputs": [
    {
     "name": "stdout",
     "output_type": "stream",
     "text": [
      " title <class 'str'>\n",
      " links <class 'list'>\n",
      "  links_item <class 'dict'>\n",
      "   title <class 'str'>\n",
      "   href <class 'str'>\n",
      "   add_date <class 'str'>\n",
      "   icon <class 'str'>\n",
      " children <class 'list'>\n",
      "  children_item <class 'dict'>\n",
      "   title <class 'str'>\n",
      "   add_date <class 'str'>\n",
      "   last_modified <class 'str'>\n",
      "   personal_toolbar_folder <class 'str'>\n",
      "   links <class 'list'>\n",
      "    links_item <class 'dict'>\n",
      "     title <class 'str'>\n",
      "     href <class 'str'>\n",
      "     add_date <class 'str'>\n",
      "     icon <class 'str'>\n",
      "   children <class 'list'>\n",
      "    children_item <class 'dict'>\n",
      "     title <class 'str'>\n",
      "     add_date <class 'str'>\n",
      "     last_modified <class 'str'>\n",
      "     links <class 'list'>\n",
      "     children <class 'list'>\n",
      "      children_item <class 'dict'>\n",
      "       title <class 'str'>\n",
      "       add_date <class 'str'>\n",
      "       last_modified <class 'str'>\n",
      "       links <class 'list'>\n",
      "        links_item <class 'dict'>\n",
      "         title <class 'str'>\n",
      "         href <class 'str'>\n",
      "         add_date <class 'str'>\n",
      "       children <class 'list'>\n",
      "        children_item <class 'dict'>\n",
      "         title <class 'str'>\n",
      "         add_date <class 'str'>\n",
      "         last_modified <class 'str'>\n",
      "         links <class 'list'>\n",
      "          links_item <class 'dict'>\n",
      "           title <class 'str'>\n",
      "           href <class 'str'>\n",
      "           add_date <class 'str'>\n",
      "         children <class 'list'>\n"
     ]
    }
   ],
   "source": [
    "def print_attr_tree(bookmarks_json):\n",
    "    starter_set = [(0, k, v) for k, v in bookmarks_json.items()]\n",
    "    while starter_set:\n",
    "        item = starter_set.pop(0)\n",
    "        indent_level = item[0]\n",
    "        k = item[1]\n",
    "        v = item[2]\n",
    "        print(indent_level * \" \", k, type(v))\n",
    "        if isinstance(v, list) and v:\n",
    "            starter_set = [(indent_level + 1, f\"{k}_item\", v[0])] + starter_set\n",
    "        elif isinstance(v, dict):\n",
    "            starter_set = [(indent_level + 1, k, v) for k, v in v.items()] + starter_set\n",
    "\n",
    "\n",
    "print_attr_tree(chrome_bm_json)"
   ]
  },
  {
   "cell_type": "code",
   "execution_count": 7,
   "metadata": {},
   "outputs": [
    {
     "name": "stdout",
     "output_type": "stream",
     "text": [
      "Total bookmarks: 3655\n",
      "Total folders: 70\n"
     ]
    }
   ],
   "source": [
    "from data_collection.models import load_bookmarks_from_json, load_bookmarks_from_dict\n",
    "\n",
    "# Load and validate bookmarks from JSON\n",
    "bookmarks_from_json = load_bookmarks_from_json(chrome_bm_json_path)\n",
    "bookmarks_from_dict = load_bookmarks_from_dict(chrome_bm_json)\n",
    "\n",
    "assert (bookmarks_from_dict == bookmarks_from_json) and (\n",
    "    bookmarks_from_dict.model_dump_json() == bookmarks_from_json.model_dump_json()\n",
    ")\n",
    "bookmarks = bookmarks_from_dict\n",
    "\n",
    "# Get statistics\n",
    "print(f\"Total bookmarks: {bookmarks.total_bookmarks}\")\n",
    "print(f\"Total folders: {bookmarks.total_folders}\")"
   ]
  },
  {
   "cell_type": "code",
   "execution_count": 8,
   "metadata": {},
   "outputs": [
    {
     "data": {
      "text/plain": [
       "[('calendar.google.com',\n",
       "  'GCal IOS Sync Settings',\n",
       "  'https://calendar.google.com/calendar/syncselect'),\n",
       " ('calendar.google.com',\n",
       "  'Calendar',\n",
       "  'https://calendar.google.com/calendar/u/0/r/week'),\n",
       " ('sites.google.com',\n",
       "  'Math 211 / ECE 205 - Homepage of Eduardo Martin-Martinez',\n",
       "  'https://sites.google.com/site/emmfis/teaching/math-211'),\n",
       " ('sites.google.com',\n",
       "  \"mat267-spring-2017 - Dmitry Panchenko's homepage\",\n",
       "  'https://sites.google.com/site/panchenkomath/Home/mat267-spring-2017'),\n",
       " ('sites.google.com',\n",
       "  'Homepage of Eduardo Martin-Martinez',\n",
       "  'https://sites.google.com/site/emmfis/home')]"
      ]
     },
     "execution_count": 8,
     "metadata": {},
     "output_type": "execute_result"
    }
   ],
   "source": [
    "# Find bookmarks by domain\n",
    "google_bookmarks = []\n",
    "for folder in bookmarks.children:\n",
    "    google_bookmarks.extend(folder.find_links_by_domain(\"google.com\"))\n",
    "list(map(lambda x: (x.domain, x.title, x.href), google_bookmarks))[:5]"
   ]
  },
  {
   "cell_type": "code",
   "execution_count": 9,
   "metadata": {},
   "outputs": [
    {
     "data": {
      "text/plain": [
       "[{'title': 'Google Bookmarks',\n",
       "  'url': 'https://accounts.google.com/Login?continue=http://www.google.com/bookmarks&hl=en&service=bookmarks',\n",
       "  'folder': 'Unnamed',\n",
       "  'path': ['Unnamed'],\n",
       "  'add_date': '2014-08-24T07:30:57',\n",
       "  'domain': 'accounts.google.com'},\n",
       " {'title': \"ePub Bud - Publish, Convert, Store, and Download free children's ebooks online for the iPad and nook color!\",\n",
       "  'url': 'http://www.epubbud.com/',\n",
       "  'folder': 'Unnamed',\n",
       "  'path': ['Unnamed'],\n",
       "  'add_date': '2014-08-24T07:30:50',\n",
       "  'domain': 'www.epubbud.com'},\n",
       " {'title': 'FREE Mobile Rhyming Dictionary',\n",
       "  'url': 'http://m.rhymer.com/',\n",
       "  'folder': 'Unnamed',\n",
       "  'path': ['Unnamed'],\n",
       "  'add_date': '2014-08-24T07:30:48',\n",
       "  'domain': 'm.rhymer.com'},\n",
       " {'title': 'Bookmarks',\n",
       "  'url': 'chrome://bookmarks/',\n",
       "  'folder': 'Bookmarks Bar',\n",
       "  'path': ['Unnamed', 'Bookmarks Bar'],\n",
       "  'add_date': '2015-05-16T00:00:03',\n",
       "  'domain': ''},\n",
       " {'title': 'Canada Revenue Agency - CRA Login',\n",
       "  'url': 'https://cms-sgj.cra-arc.gc.ca/gol-ged/awsc/cms/login?TYPE=33554432&REALMOID=06-26a97681-2e5a-105d-9505-84cb2b4afb5e&GUID=&SMAUTHREASON=0&METHOD=GET&SMAGENTNAME=-SM-ZHTJsLCH%2fGYscG6jheTrumCUKmJFoBBZUT8na%2fuy73qGx3XOLF%2f7Yvl4X0JKC9JpTkiCGb%2fKMYBOlzIqFCOzPD9umXQ5g3vIezksEUCEmTANzAg5DaxtLKJqLzfjNHKe&TARGET=-SM-HTTPS%3a%2f%2fcms--sgj%2ecra--arc%2egc%2eca%2fgol--ged%2fawsc%2fcms%2fmacauth%3fTYPE%3d33554432%26REALMOID%3d06--00ba5d0a--2e5a--105d--9505--84cb2b4afb5e%26GUID%3d%26SMAUTHREASON%3d0%26METHOD%3dGET%26SMAGENTNAME%3d--SM--ZHTJsLCH-%2fGYscG6jheTrumCUKmJFoBBZUT8na-%2fuy73qGx3XOLF-%2f7Yvl4X0JKC9JpTkiCGb-%2fKMYBOlzIqFCOzPD9umXQ5g3vIezksEUCEmTANzAg5DaxtLKJqLzfjNHKe%26TARGET%3d--SM--HTTPS-%3a-%2f-%2fcms----sgj-%2ecra----arc-%2egc-%2eca-%2fgol----ged-%2fawsc-%2fcms-%2fpostlogin-%3fSAMLRequest-%3dfVCxTsMwEN37FZH3xBeXmPSURKrUpRIsgBhY0NVx0qDEDj5H8PmkZQAWbrjh6d279161X---%2BLZPdj3xXJMDusaHMXBu1qcY5wZpTQTp9y---%2FZSZQSsFkvckMXdAPlvNyGgcjmaZRMXuRHA---%2B1eO12ednCjSmLtoNCd0aftmW---%2BhVLn2qgObnXbrVTmxR4dR3KxFgoUpFCkoJ---%2FyHaoSAV5E8mwDX82oDETyOY2Oa7EEh554YHQ0WcZo8HF---%2Ff4crB---%2Bfgozd---%2BFM0mWadynOP1Ufi---%2BxhX4X4GYbbg0IJrR94PL6Jqf---%2Fuav5I9ys6nk7xqbLw---%3D---%3D-%26RelayState-%3d71d92411f074c464394dcd9689b2f7a238f7fd0d-%26SigAlg-%3dhttp---%3A---%2F---%2Fwww-%2ew3-%2eorg---%2F2001---%2F04---%2Fxmldsig----more---%23rsa----sha256-%26Signature-%3drJW1UZy9zwnqdWYQyOjnqzKilgDMu9ZJqDrbm5tm1MwnqY8fra5V7Hs8XtyBPps2eJP1KbKH---%2Fw1l6634x5GmerfDnrWhq8OL7GWlE---%2F2CnEwAAYUa7VyKRvlXQHEJCdAN---%2BMhiSphiW8ymNCSFkeBjwBJ0vXyp4wt8jhup2TIsYdZVOiP88BteLe---%2FKDKV8KZtugRGBKQpYmS7jG023QcL7vKT7nmp5vSilRonWcwsAg8mprWPp7lfa04gEJRYPNbPLJFb09OhaTquJ97YkXYQmr4fRgtqELWwc6NhgZ---%2BSb1Aveu7QGjm3oaV---%2Fgw6t---%2F5O9bzEAXVDF---%2F2JQP4swXpZ33iw---%3D---%3D-%26SMPORTALURL-%3d3s3oC2jIJ0qEQ12Yiq9kAEjDKEUuKufwTJYavzvDtmH65tOSqAjOcKBbNnWrHFISoEmNt55oyAIlNgDZ---%2FeXB9Z---%2Fegu2zyozy',\n",
       "  'folder': 'Bookmarks Bar',\n",
       "  'path': ['Unnamed', 'Bookmarks Bar'],\n",
       "  'add_date': '2020-05-06T15:28:12',\n",
       "  'domain': 'cms-sgj.cra-arc.gc.ca'}]"
      ]
     },
     "execution_count": 9,
     "metadata": {},
     "output_type": "execute_result"
    }
   ],
   "source": [
    "# Find a specific folder\n",
    "math_folder = bookmarks.find_folder_by_path([\"Bookmarks Bar\", \"Math/CS/ML/AI/Data\"])\n",
    "if math_folder:\n",
    "    print(f\"Math folder contains {len(math_folder.links)} direct bookmarks\")\n",
    "# Get a flat list of all bookmarks with paths\n",
    "flat_list = bookmarks.get_flat_bookmarks()\n",
    "flat_list[:5]"
   ]
  }
 ],
 "metadata": {
  "kernelspec": {
   "display_name": "cluster-links",
   "language": "python",
   "name": "python3"
  },
  "language_info": {
   "codemirror_mode": {
    "name": "ipython",
    "version": 3
   },
   "file_extension": ".py",
   "mimetype": "text/x-python",
   "name": "python",
   "nbconvert_exporter": "python",
   "pygments_lexer": "ipython3",
   "version": "3.13.2"
  }
 },
 "nbformat": 4,
 "nbformat_minor": 2
}

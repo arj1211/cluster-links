{
 "cells": [
  {
   "cell_type": "code",
   "execution_count": 7,
   "id": "c71744f2",
   "metadata": {},
   "outputs": [
    {
     "name": "stdout",
     "output_type": "stream",
     "text": [
      "Added /Users/arjunbawa/Desktop/cluster-links to Python path.\n",
      "Current working directory: /Users/arjunbawa/Desktop/cluster-links/notebooks\n"
     ]
    }
   ],
   "source": [
    "import notebooks_setup\n",
    "\n",
    "notebooks_setup.setup()"
   ]
  },
  {
   "cell_type": "code",
   "execution_count": 8,
   "id": "b8b93ab9",
   "metadata": {},
   "outputs": [],
   "source": [
    "with open(notebooks_setup.DATA_OUTPUT_DIR.joinpath(\"combined-flat-list.json\")) as f:\n",
    "    bookmarks = json.loads(f.read())"
   ]
  },
  {
   "cell_type": "code",
   "execution_count": 9,
   "id": "b1919317",
   "metadata": {},
   "outputs": [],
   "source": [
    "bookmarks = list(map(lambda x: (x[\"domain\"], x[\"url\"]), bookmarks))"
   ]
  },
  {
   "cell_type": "code",
   "execution_count": 10,
   "id": "e615aa5f",
   "metadata": {},
   "outputs": [
    {
     "name": "stdout",
     "output_type": "stream",
     "text": [
      "https://www.reddit.com/r/esp32/comments/17u7sbb/esp32_driving_mosfet_circuit/\n",
      "ESP32 is a series of low cost, low power system on a chip microcontrollers with integrated Wi-Fi and dual-mode Bluetooth. The ESP32 series employs either a Tensilica Xtensa LX6, Xtensa LX7 or a RiscV processor, and both dual-core and single-core variations are available. It includes in-built antenna switches, RF balun, power amplifier, low-noise receive amplifier, filters, and power management modules as well.\n",
      "ESP32 driving mosfet - circuit?\n",
      "This might be right on the edge of what this reddit is all about, but I'll give it a shot.\n",
      "I have made a small device that is able to read a temperature sensor, and the ncontrol a PWM signal based on the setpoint. I uses a PID controller, it has a webinterface for setting the setpoints, and everything from a sw perspctive is working. (Famous developers last words..)\n",
      "Now I'm to control a 50w heater (think a seat heater in a car), so i need to add a mosfet to the pwm signal and then some 12v. Problem is that I'm a sw guy, not hw. I know I need to resisters, a flyback diode - but nothing more than this. What mosfet do I need? The board will sit in a confined space, so there is not room for a heatsink on the mosfet. It will run the 12V 50w heater element, but (for now) it will not exceed 75% DutyCycle.\n",
      "What components do I need?\n"
     ]
    }
   ],
   "source": [
    "from random import randint\n",
    "\n",
    "rand_link = [x for x in bookmarks if \"reddit\" in x[0]]\n",
    "rand_link = rand_link[randint(0, len(rand_link))][1]\n",
    "\n",
    "print(rand_link)\n",
    "\n",
    "from trafilatura import fetch_url, extract\n",
    "\n",
    "rand_link_dl = fetch_url(rand_link)\n",
    "rand_link_response = extract(\n",
    "    rand_link_dl,\n",
    "    output_format=\"txt\",\n",
    "    include_tables=True,\n",
    "    include_comments=True,\n",
    ")\n",
    "\n",
    "print(rand_link_response)"
   ]
  },
  {
   "cell_type": "code",
   "execution_count": 11,
   "id": "229f9563",
   "metadata": {},
   "outputs": [],
   "source": [
    "import asyncio\n",
    "from playwright.async_api import async_playwright\n",
    "\n",
    "html_doc = \"\"\n",
    "async with async_playwright() as p:\n",
    "    browser = await p.webkit.launch()\n",
    "    page = await browser.new_page()\n",
    "    await page.goto(rand_link)\n",
    "    html_doc = await page.content()\n",
    "    await browser.close()"
   ]
  },
  {
   "cell_type": "code",
   "execution_count": 12,
   "id": "d1023d05",
   "metadata": {},
   "outputs": [
    {
     "name": "stdout",
     "output_type": "stream",
     "text": [
      "ESP32 is a series of low cost, low power system on a chip microcontrollers with integrated Wi-Fi and dual-mode Bluetooth. The ESP32 series employs either a Tensilica Xtensa LX6, Xtensa LX7 or a RiscV processor, and both dual-core and single-core variations are available. It includes in-built antenna switches, RF balun, power amplifier, low-noise receive amplifier, filters, and power management modules as well.\n",
      "\n",
      "#\n",
      "ESP32 driving mosfet - circuit?\n",
      "\n",
      "This might be right on the edge of what this reddit is all about, but I'll give it a shot.\n",
      "\n",
      "I have made a small device that is able to read a temperature sensor, and the ncontrol a PWM signal based on the setpoint. I uses a PID controller, it has a webinterface for setting the setpoints, and everything from a sw perspctive is working. (Famous developers last words..)\n",
      "\n",
      "Now I'm to control a 50w heater (think a seat heater in a car), so i need to add a mosfet to the pwm signal and then some 12v. Problem is that I'm a sw guy, not hw. I know I need to resisters, a flyback diode - but nothing more than this. What mosfet do I need? The board will sit in a confined space, so there is not room for a heatsink on the mosfet. It will run the 12V 50w heater element, but (for now) it will not exceed 75% DutyCycle.\n",
      "\n",
      "What components do I need?\n",
      "\n",
      "Two resistors (one between the GPIO-pin on the ESP32 and the MOSFET's gate, one as a pull-down on the gate), a suitable N-channel MOSFET and a flyback diode, so not a lot.\n",
      "\n",
      "The IRLB8721, for example, would be suitable and with your load, it shouldn't require a heatsink, either. See e.g. https://www.adafruit.com/product/355 for a couple of examples of how to drive one.\n",
      "\n",
      "can I use a IRL540N? I have a few of those laying around :)\n",
      "\n",
      "I use optocoupled mosfet modules for this kind of thing just to make my life easier. (there are more efficient ways of doing this)\n",
      "\n",
      "And example is this thing:https://www.aliexpress.com/item/1005004051941061.html\n",
      "\n",
      "The reason I use optocoupled modules is for easy wiring to control higher voltages without needing to worry as much about frying my microcontroller.\n",
      "\n",
      "EDIT: Just as a side note: Make sure you rate for higher than 12V if you are putting this in a car. I find voltage spikes are quite common and can kill your controller and possibly cause a catastrophic failure (eg, fire when dealing with things like heaters).\n",
      "\n",
      "Here's what I've used, I believe the IRF520's are good for 9a\n",
      "\n",
      "https://i.imgur.com/9hKv2cS.png\n",
      "\n",
      "EDIT: If you cant see the image, the ESP32 pin goes directly to the gate of the IRF520, and there is a pulldown resistor on the gate to ground. The load goes between the drain and 12Vdc. and the source goes to ground.\n",
      "\n",
      "Picture not found :/ by the sound of it this is what I’m after. Can you repost the image?\n"
     ]
    }
   ],
   "source": [
    "print(\n",
    "    extract(\n",
    "        html_doc,\n",
    "        output_format=\"markdown\",\n",
    "        include_tables=True,\n",
    "        include_comments=True,\n",
    "    )\n",
    ")"
   ]
  }
 ],
 "metadata": {
  "kernelspec": {
   "display_name": "cluster-links",
   "language": "python",
   "name": "python3"
  },
  "language_info": {
   "codemirror_mode": {
    "name": "ipython",
    "version": 3
   },
   "file_extension": ".py",
   "mimetype": "text/x-python",
   "name": "python",
   "nbconvert_exporter": "python",
   "pygments_lexer": "ipython3",
   "version": "3.13.2"
  }
 },
 "nbformat": 4,
 "nbformat_minor": 5
}

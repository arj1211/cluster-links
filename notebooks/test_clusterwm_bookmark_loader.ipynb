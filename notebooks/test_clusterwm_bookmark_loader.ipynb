{
    "cells": [
        {
            "cell_type": "code",
            "execution_count": 1,
            "metadata": {},
            "outputs": [
                {
                    "name": "stdout",
                    "output_type": "stream",
                    "text": [
                        "Added /Users/arjunbawa/Desktop/cluster-links to Python path.\n",
                        "Added /Users/arjunbawa/Desktop/cluster-links/src to Python path\n",
                        "Current working directory: /Users/arjunbawa/Desktop/cluster-links/notebooks\n"
                    ]
                }
            ],
            "source": [
                "import notebooks_setup\n",
                "\n",
                "notebooks_setup.setup()"
            ]
        },
        {
            "cell_type": "code",
            "execution_count": 2,
            "metadata": {},
            "outputs": [],
            "source": [
                "csv_infile = notebooks_setup.DATA_INPUT_DIR.glob(\"*.csv\").__next__()\n",
                "json_infile = notebooks_setup.DATA_INPUT_DIR.glob(\"*.json\").__next__()"
            ]
        },
        {
            "cell_type": "code",
            "execution_count": 3,
            "metadata": {},
            "outputs": [
                {
                    "name": "stdout",
                    "output_type": "stream",
                    "text": [
                        "Bookmarks saved to /Users/arjunbawa/Desktop/cluster-links/data/output/bookmarks-cwm.json\n"
                    ]
                }
            ],
            "source": [
                "from data_collection import ClusterWMBookmarkLoader\n",
                "\n",
                "cwmbmc = ClusterWMBookmarkLoader(csv_infile)\n",
                "\n",
                "cwm_bm_json_path = cwmbmc.save_json(\n",
                "    notebooks_setup.DATA_OUTPUT_DIR.joinpath(\"bookmarks-cwm.json\"), return_path=True\n",
                ")\n",
                "print(f\"Bookmarks saved to {cwm_bm_json_path}\")\n",
                "cwm_bm_json = json.loads(cwm_bm_json_path.read_text(encoding=\"utf-8\"))\n",
                "assert cwmbmc.get_bookmarks() == cwm_bm_json"
            ]
        },
        {
            "cell_type": "code",
            "execution_count": 4,
            "metadata": {},
            "outputs": [
                {
                    "name": "stdout",
                    "output_type": "stream",
                    "text": [
                        "Total bookmarks: 2072\n",
                        "Total folders: 37\n"
                    ]
                }
            ],
            "source": [
                "from data_collection.models import load_bookmarks_from_dict\n",
                "\n",
                "bookmarks = load_bookmarks_from_dict(cwm_bm_json)\n",
                "# Get statistics\n",
                "print(f\"Total bookmarks: {bookmarks.total_bookmarks}\")\n",
                "print(f\"Total folders: {bookmarks.total_folders}\")"
            ]
        },
        {
            "cell_type": "code",
            "execution_count": 5,
            "metadata": {},
            "outputs": [
                {
                    "data": {
                        "text/plain": [
                            "[('cs224d.stanford.edu',\n",
                            "  'Stanford University CS224d: Deep Learning for Nat…',\n",
                            "  'http://cs224d.stanford.edu/'),\n",
                            " ('cs231n.stanford.edu',\n",
                            "  'Stanford University CS231n: Deep Learning for Com…',\n",
                            "  'http://cs231n.stanford.edu/'),\n",
                            " ('stanford.edu',\n",
                            "  'Teaching - CS 230',\n",
                            "  'https://stanford.edu/~shervine/teaching/cs-230/'),\n",
                            " ('web.stanford.edu',\n",
                            "  'Stanford CS 25 | Transformers United',\n",
                            "  'https://web.stanford.edu/class/cs25/'),\n",
                            " ('explorecourses.stanford.edu',\n",
                            "  'Stanford University Explore Courses',\n",
                            "  'https://explorecourses.stanford.edu/search?view=catalog&filter-coursestatus-Active=on&page=0&q=ME218')]"
                        ]
                    },
                    "execution_count": 5,
                    "metadata": {},
                    "output_type": "execute_result"
                }
            ],
            "source": [
                "# Find bookmarks by domain\n",
                "stanford_bookmarks = []\n",
                "for folder in bookmarks.children:\n",
                "    stanford_bookmarks.extend(folder.find_links_by_domain(\"stanford.edu\"))\n",
                "list(map(lambda x: (x.domain, x.title, x.href), stanford_bookmarks))[:5]"
            ]
        }
    ],
    "metadata": {
        "kernelspec": {
            "display_name": "cluster-links",
            "language": "python",
            "name": "python3"
        },
        "language_info": {
            "codemirror_mode": {
                "name": "ipython",
                "version": 3
            },
            "file_extension": ".py",
            "mimetype": "text/x-python",
            "name": "python",
            "nbconvert_exporter": "python",
            "pygments_lexer": "ipython3",
            "version": "3.13.2"
        }
    },
    "nbformat": 4,
    "nbformat_minor": 2
}

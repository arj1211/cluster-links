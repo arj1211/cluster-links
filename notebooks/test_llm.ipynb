{
 "cells": [
  {
   "cell_type": "code",
   "execution_count": 6,
   "id": "8913ac29",
   "metadata": {},
   "outputs": [
    {
     "name": "stdout",
     "output_type": "stream",
     "text": [
      "Added /Users/arjunbawa/Desktop/cluster-links to Python path.\n",
      "Current working directory: /Users/arjunbawa/Desktop/cluster-links/notebooks\n"
     ]
    }
   ],
   "source": [
    "import notebooks_setup\n",
    "\n",
    "notebooks_setup.setup()"
   ]
  },
  {
   "cell_type": "code",
   "execution_count": 7,
   "id": "23440535",
   "metadata": {},
   "outputs": [
    {
     "name": "stderr",
     "output_type": "stream",
     "text": [
      "Device set to use mps\n"
     ]
    }
   ],
   "source": [
    "import torch\n",
    "from transformers import pipeline\n",
    "\n",
    "model_id = \"meta-llama/Llama-3.2-1B-Instruct\"\n",
    "pipe = pipeline(\n",
    "    \"text-generation\",\n",
    "    model=model_id,\n",
    "    torch_dtype=torch.bfloat16,\n",
    "    device_map=\"auto\",\n",
    ")"
   ]
  },
  {
   "cell_type": "code",
   "execution_count": 8,
   "id": "f9f2dc5e",
   "metadata": {},
   "outputs": [],
   "source": [
    "sys_prompt = \"\"\"\n",
    "You are an expert at summarization and at being succint. When provided arbitrarily-structured text, you will extract the 10 most significant topics, themes, fields of knowledge, epistemological areas, or whatever other type of strong identifier is appropriate for the text. You will never provide any portion of your response in unstructured text, rather you will always reply with each of the 10 topics seperated into new lines. These topics are strongly encouraged to be single words, but in rare cases be 2-4 words. Do NOT start or end your response with any pleasantries, you must simply list the topics one per line and nothing more. This means your total output should be 10 lines, no less no more. Do NOT number each line, do NOT add any additional formatting of any kind, no indenting, no bullets, nothing. Just the topic per line, thats it. \n",
    "\"\"\""
   ]
  },
  {
   "cell_type": "code",
   "execution_count": 9,
   "id": "ae8995e1",
   "metadata": {},
   "outputs": [],
   "source": [
    "messages = [\n",
    "    {\n",
    "        \"role\": \"system\",\n",
    "        \"content\": sys_prompt,\n",
    "    },\n",
    "    {\n",
    "        \"role\": \"user\",\n",
    "        \"content\": \"\"\"\n",
    "    ESP32 is a series of low cost, low power system on a chip microcontrollers with integrated Wi-Fi and dual-mode Bluetooth. The ESP32 series employs either a Tensilica Xtensa LX6, Xtensa LX7 or a RiscV processor, and both dual-core and single-core variations are available. It includes in-built antenna switches, RF balun, power amplifier, low-noise receive amplifier, filters, and power management modules as well.\n",
    "\n",
    "    #\n",
    "    ESP32 driving mosfet - circuit?\n",
    "\n",
    "    This might be right on the edge of what this reddit is all about, but I'll give it a shot.\n",
    "\n",
    "    I have made a small device that is able to read a temperature sensor, and the ncontrol a PWM signal based on the setpoint. I uses a PID controller, it has a webinterface for setting the setpoints, and everything from a sw perspctive is working. (Famous developers last words..)\n",
    "\n",
    "    Now I'm to control a 50w heater (think a seat heater in a car), so i need to add a mosfet to the pwm signal and then some 12v. Problem is that I'm a sw guy, not hw. I know I need to resisters, a flyback diode - but nothing more than this. What mosfet do I need? The board will sit in a confined space, so there is not room for a heatsink on the mosfet. It will run the 12V 50w heater element, but (for now) it will not exceed 75% DutyCycle.\n",
    "\n",
    "    What components do I need?\n",
    "\n",
    "    Two resistors (one between the GPIO-pin on the ESP32 and the MOSFET's gate, one as a pull-down on the gate), a suitable N-channel MOSFET and a flyback diode, so not a lot.\n",
    "\n",
    "    The IRLB8721, for example, would be suitable and with your load, it shouldn't require a heatsink, either. See e.g. https://www.adafruit.com/product/355 for a couple of examples of how to drive one.\n",
    "\n",
    "    can I use a IRL540N? I have a few of those laying around :)\n",
    "\n",
    "    I use optocoupled mosfet modules for this kind of thing just to make my life easier. (there are more efficient ways of doing this)\n",
    "\n",
    "    And example is this thing:https://www.aliexpress.com/item/1005004051941061.html\n",
    "\n",
    "    The reason I use optocoupled modules is for easy wiring to control higher voltages without needing to worry as much about frying my microcontroller.\n",
    "\n",
    "    EDIT: Just as a side note: Make sure you rate for higher than 12V if you are putting this in a car. I find voltage spikes are quite common and can kill your controller and possibly cause a catastrophic failure (eg, fire when dealing with things like heaters).\n",
    "\n",
    "    Here's what I've used, I believe the IRF520's are good for 9a\n",
    "\n",
    "    https://i.imgur.com/9hKv2cS.png\n",
    "\n",
    "    EDIT: If you cant see the image, the ESP32 pin goes directly to the gate of the IRF520, and there is a pulldown resistor on the gate to ground. The load goes between the drain and 12Vdc. and the source goes to ground.\n",
    "\n",
    "    Picture not found :/ by the sound of it this is what I'm after. Can you repost the image?\n",
    "    \"\"\",\n",
    "    },\n",
    "]"
   ]
  },
  {
   "cell_type": "code",
   "execution_count": 10,
   "id": "94adddb3",
   "metadata": {},
   "outputs": [
    {
     "name": "stderr",
     "output_type": "stream",
     "text": [
      "Setting `pad_token_id` to `eos_token_id`:128001 for open-end generation.\n"
     ]
    }
   ],
   "source": [
    "outputs = pipe(\n",
    "    messages,\n",
    "    max_new_tokens=128,\n",
    ")\n",
    "result = outputs[0][\"generated_text\"][-1][\"content\"]"
   ]
  },
  {
   "cell_type": "code",
   "execution_count": 11,
   "id": "06c11c22",
   "metadata": {},
   "outputs": [
    {
     "name": "stdout",
     "output_type": "stream",
     "text": [
      "ESP32\n",
      "Driving MOSFET Circuit\n",
      "PID Controller\n",
      "Web Interface\n",
      "SW Perspective\n",
      "Resistors\n",
      "Flyback Diode\n",
      "MOSFET\n",
      "IRF520\n",
      "IRL540N\n",
      "Optocoupled Modules\n",
      "Heater\n",
      "12VDC\n",
      "DutyCycle\n",
      "Heatsink\n",
      "IRLB8721\n",
      "IRL540N\n",
      "Optocoupled Wiring\n"
     ]
    }
   ],
   "source": [
    "print(result)"
   ]
  }
 ],
 "metadata": {
  "kernelspec": {
   "display_name": "cluster-links",
   "language": "python",
   "name": "python3"
  },
  "language_info": {
   "codemirror_mode": {
    "name": "ipython",
    "version": 3
   },
   "file_extension": ".py",
   "mimetype": "text/x-python",
   "name": "python",
   "nbconvert_exporter": "python",
   "pygments_lexer": "ipython3",
   "version": "3.13.2"
  }
 },
 "nbformat": 4,
 "nbformat_minor": 5
}
